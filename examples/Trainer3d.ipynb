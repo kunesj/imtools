{
 "cells": [
  {
   "cell_type": "code",
   "execution_count": 10,
   "metadata": {},
   "outputs": [
    {
     "name": "stdout",
     "output_type": "stream",
     "text": [
      "Populating the interactive namespace from numpy and matplotlib\n"
     ]
    }
   ],
   "source": [
    "%pylab inline"
   ]
  },
  {
   "cell_type": "code",
   "execution_count": 11,
   "metadata": {
    "collapsed": true
   },
   "outputs": [],
   "source": [
    "import numpy as np\n",
    "import os\n",
    "import os.path\n",
    "from nose.plugins.attrib import attr\n",
    "import os.path as op\n",
    "import sys\n",
    "import matplotlib.pyplot as plt\n",
    "import scipy\n",
    "import glob\n",
    "\n",
    "import imtools.trainer3d\n",
    "import imtools.datasets\n",
    "import imtools.ml\n",
    "import io3d\n",
    "import sed3"
   ]
  },
  {
   "cell_type": "markdown",
   "metadata": {},
   "source": [
    "# Training"
   ]
  },
  {
   "cell_type": "code",
   "execution_count": null,
   "metadata": {
    "collapsed": true
   },
   "outputs": [],
   "source": [
    "# Define feature function\n",
    "def externfv(data3d, voxelsize_mm):        # scale\n",
    "    f0 = scipy.ndimage.filters.gaussian_filter(data3d, sigma=3).reshape(-1, 1)\n",
    "    f1 = scipy.ndimage.filters.gaussian_filter(data3d, sigma=1).reshape(-1, 1) - f0\n",
    "    fv = np.concatenate([\n",
    "        f0, f1\n",
    "    ], 1)\n",
    "    return fv"
   ]
  },
  {
   "cell_type": "code",
   "execution_count": null,
   "metadata": {},
   "outputs": [],
   "source": [
    "sliver_reference_dir = op.expanduser(\"~/data/medical/orig/sliver07/training/\")\n",
    "\n",
    "ol = imtools.trainer3d.Trainer3D()\n",
    "# select feature function\n",
    "ol.feature_function = externfv\n",
    "# select classifier\n",
    "ol.cl = imtools.ml.gmmcl.GMMCl(n_components=3)\n",
    "\n",
    "for one in imtools.datasets.sliver_reader(\"*[1-9].mhd\", read_seg=True):\n",
    "    numeric_label, vs_mm, oname, orig_data, rname, ref_data = one\n",
    "    ol.add_train_data(orig_data, ref_data, voxelsize_mm=vs_mm)\n",
    "\n",
    "ol.fit()\n",
    "\n"
   ]
  },
  {
   "cell_type": "markdown",
   "metadata": {},
   "source": [
    "# Testing"
   ]
  },
  {
   "cell_type": "code",
   "execution_count": null,
   "metadata": {},
   "outputs": [],
   "source": [
    "one = list(imtools.datasets.sliver_reader(\"*000.mhd\", read_seg=True))[0]\n",
    "numeric_label, vs_mm, oname, orig_data, rname, ref_data = one\n",
    "fit = ol.predict(orig_data, voxelsize_mm=vs_mm)\n",
    "\n",
    "# visualization\n",
    "plt.figure(figsize=(15,10))\n",
    "sed3.show_slices(orig_data, fit, slice_step=20, axis=1, flipV=True)"
   ]
  }
 ],
 "metadata": {
  "kernelspec": {
   "display_name": "Python 2",
   "language": "python",
   "name": "python2"
  },
  "language_info": {
   "codemirror_mode": {
    "name": "ipython",
    "version": 2
   },
   "file_extension": ".py",
   "mimetype": "text/x-python",
   "name": "python",
   "nbconvert_exporter": "python",
   "pygments_lexer": "ipython2",
   "version": "2.7.13"
  }
 },
 "nbformat": 4,
 "nbformat_minor": 2
}
